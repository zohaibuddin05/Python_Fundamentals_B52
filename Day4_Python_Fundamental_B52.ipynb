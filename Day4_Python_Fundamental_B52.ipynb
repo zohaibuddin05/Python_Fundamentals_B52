{
 "cells": [
  {
   "cell_type": "code",
   "execution_count": null,
   "metadata": {},
   "outputs": [],
   "source": [
    "Defination : A list is a collection of items in a particular order\n",
    "Classification : It is classified as a mutable datatype."
   ]
  },
  {
   "cell_type": "code",
   "execution_count": 1,
   "metadata": {},
   "outputs": [
    {
     "name": "stdout",
     "output_type": "stream",
     "text": [
      "['zohaib', 'sudiptio', 'ankur', 'john', 'farheen']\n"
     ]
    }
   ],
   "source": [
    "#How to declare a list : Using square brackets []\n",
    "\n",
    "students = ['zohaib','sudiptio','ankur','john','farheen']\n",
    "\n",
    "print(students);"
   ]
  },
  {
   "cell_type": "code",
   "execution_count": 9,
   "metadata": {},
   "outputs": [
    {
     "data": {
      "text/plain": [
       "list"
      ]
     },
     "execution_count": 9,
     "metadata": {},
     "output_type": "execute_result"
    }
   ],
   "source": [
    "#check the data type of students variable \n",
    "type(students)"
   ]
  },
  {
   "cell_type": "code",
   "execution_count": null,
   "metadata": {},
   "outputs": [],
   "source": [
    "# Req : how to access the elements from the list ???\n",
    "\n",
    "#Ans : Using Indexing starting from 0,1,2,3,4,5,6,7,......"
   ]
  },
  {
   "cell_type": "code",
   "execution_count": 10,
   "metadata": {},
   "outputs": [
    {
     "name": "stdout",
     "output_type": "stream",
     "text": [
      "sudiptio\n"
     ]
    }
   ],
   "source": [
    "print(students[1])"
   ]
  },
  {
   "cell_type": "code",
   "execution_count": 11,
   "metadata": {},
   "outputs": [
    {
     "name": "stdout",
     "output_type": "stream",
     "text": [
      "Sudiptio\n"
     ]
    }
   ],
   "source": [
    "# How to print name of john with capital\n",
    "print(students[1].title());"
   ]
  },
  {
   "cell_type": "code",
   "execution_count": 12,
   "metadata": {},
   "outputs": [
    {
     "name": "stdout",
     "output_type": "stream",
     "text": [
      "['zohaib', 'sudiptio', 'ankur', 'john', 'farheen']\n"
     ]
    }
   ],
   "source": [
    "# 1. How to add new element to the list.\n",
    "\n",
    "print(students);"
   ]
  },
  {
   "cell_type": "code",
   "execution_count": null,
   "metadata": {},
   "outputs": [],
   "source": [
    "#Req : Add rafi to above list\n",
    "\n",
    "# Methods used to add elements : append()"
   ]
  },
  {
   "cell_type": "code",
   "execution_count": 15,
   "metadata": {},
   "outputs": [],
   "source": [
    "students.append('rafi')\n"
   ]
  },
  {
   "cell_type": "code",
   "execution_count": 16,
   "metadata": {},
   "outputs": [
    {
     "name": "stdout",
     "output_type": "stream",
     "text": [
      "['zohaib', 'sudiptio', 'ankur', 'john', 'farheen', 'rafi']\n"
     ]
    }
   ],
   "source": [
    "print(students);"
   ]
  },
  {
   "cell_type": "code",
   "execution_count": 17,
   "metadata": {},
   "outputs": [],
   "source": [
    "# Req : Add suvedita to above list\n",
    "students.append('suvedita')"
   ]
  },
  {
   "cell_type": "code",
   "execution_count": 18,
   "metadata": {},
   "outputs": [
    {
     "name": "stdout",
     "output_type": "stream",
     "text": [
      "['zohaib', 'sudiptio', 'ankur', 'john', 'farheen', 'rafi', 'suvedita']\n"
     ]
    }
   ],
   "source": [
    "print(students)"
   ]
  },
  {
   "cell_type": "code",
   "execution_count": 19,
   "metadata": {},
   "outputs": [],
   "source": [
    "# Req : Add kiran to second index position??\n",
    "\n",
    "students.insert(2,'kiran')\n"
   ]
  },
  {
   "cell_type": "code",
   "execution_count": 20,
   "metadata": {},
   "outputs": [
    {
     "name": "stdout",
     "output_type": "stream",
     "text": [
      "['zohaib', 'sudiptio', 'kiran', 'ankur', 'john', 'farheen', 'rafi', 'suvedita']\n"
     ]
    }
   ],
   "source": [
    "print(students)"
   ]
  },
  {
   "cell_type": "code",
   "execution_count": null,
   "metadata": {},
   "outputs": [],
   "source": [
    " #> Q : What is the difference between append() and insert()\n",
    "# Ans : Append() : It adds the element at the end of the list.\n",
    "#                 Syntax : listname.append({element to add})\n",
    "#      Insert() : It adds elements at the specified index.\n",
    "#                 Syntax : listname.insert({index at which element to be added},{element to add});"
   ]
  },
  {
   "cell_type": "code",
   "execution_count": 22,
   "metadata": {},
   "outputs": [],
   "source": [
    "# 2. How to modify the elements in the list.\n",
    "\n",
    "\n",
    "# Req : i want to modify zohaib to uddin\n",
    "\n",
    "students[0] ='uddin'"
   ]
  },
  {
   "cell_type": "code",
   "execution_count": 23,
   "metadata": {},
   "outputs": [
    {
     "name": "stdout",
     "output_type": "stream",
     "text": [
      "['uddin', 'sudiptio', 'kiran', 'ankur', 'john', 'farheen', 'rafi', 'suvedita']\n"
     ]
    }
   ],
   "source": [
    "print(students)"
   ]
  },
  {
   "cell_type": "code",
   "execution_count": 24,
   "metadata": {},
   "outputs": [],
   "source": [
    "# 3. How to delete elements in the list.\n",
    "\n",
    "#req : I want to delete ankur from the list\n",
    "\n",
    "del students[3];"
   ]
  },
  {
   "cell_type": "code",
   "execution_count": 25,
   "metadata": {},
   "outputs": [
    {
     "name": "stdout",
     "output_type": "stream",
     "text": [
      "['uddin', 'sudiptio', 'kiran', 'john', 'farheen', 'rafi', 'suvedita']\n"
     ]
    }
   ],
   "source": [
    "print(students)"
   ]
  },
  {
   "cell_type": "code",
   "execution_count": null,
   "metadata": {},
   "outputs": [],
   "source": []
  },
  {
   "cell_type": "code",
   "execution_count": null,
   "metadata": {},
   "outputs": [],
   "source": []
  }
 ],
 "metadata": {
  "kernelspec": {
   "display_name": "Python 3",
   "language": "python",
   "name": "python3"
  },
  "language_info": {
   "codemirror_mode": {
    "name": "ipython",
    "version": 3
   },
   "file_extension": ".py",
   "mimetype": "text/x-python",
   "name": "python",
   "nbconvert_exporter": "python",
   "pygments_lexer": "ipython3",
   "version": "3.7.6"
  }
 },
 "nbformat": 4,
 "nbformat_minor": 4
}
