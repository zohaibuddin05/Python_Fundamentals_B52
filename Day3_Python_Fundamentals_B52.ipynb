{
 "cells": [
  {
   "cell_type": "code",
   "execution_count": null,
   "metadata": {},
   "outputs": [],
   "source": [
    "#methods in python : contd..\n",
    "\n",
    "#2) title()  :  It converts the text in initcaps."
   ]
  },
  {
   "cell_type": "code",
   "execution_count": 1,
   "metadata": {},
   "outputs": [
    {
     "name": "stdout",
     "output_type": "stream",
     "text": [
      "Zohaib Uddin\n"
     ]
    }
   ],
   "source": [
    "fullname = 'zohaib uddin'\n",
    "print(fullname.title())"
   ]
  },
  {
   "cell_type": "code",
   "execution_count": null,
   "metadata": {},
   "outputs": [],
   "source": [
    "# 3) upper() : It converts the text in uppercase."
   ]
  },
  {
   "cell_type": "code",
   "execution_count": 2,
   "metadata": {},
   "outputs": [
    {
     "name": "stdout",
     "output_type": "stream",
     "text": [
      "ZOHAIB UDDIN\n"
     ]
    }
   ],
   "source": [
    "fullname = 'zohaib uddin'\n",
    "print(fullname.upper())"
   ]
  },
  {
   "cell_type": "code",
   "execution_count": null,
   "metadata": {},
   "outputs": [],
   "source": [
    "#4) lower() : It converts the text in lowercase."
   ]
  },
  {
   "cell_type": "code",
   "execution_count": 3,
   "metadata": {},
   "outputs": [
    {
     "name": "stdout",
     "output_type": "stream",
     "text": [
      "zohaib uddin\n"
     ]
    }
   ],
   "source": [
    "fullname = 'ZOHAIB UDDIN'\n",
    "print(fullname.lower())"
   ]
  },
  {
   "cell_type": "code",
   "execution_count": null,
   "metadata": {},
   "outputs": [],
   "source": [
    "# Req : I want to get the Fullname from below variables :\n",
    "\n",
    "firstname ='sachin'\n",
    "lastname = 'jadhav'"
   ]
  },
  {
   "cell_type": "code",
   "execution_count": null,
   "metadata": {},
   "outputs": [],
   "source": [
    "#****VERY IMPORTANT**********Introduction to f strings\n",
    "#general syntax of an f string :\n",
    "\n",
    "#f\"custom words , {placeholder1},{placeholder2}....{placeholder..n}\""
   ]
  },
  {
   "cell_type": "code",
   "execution_count": 7,
   "metadata": {},
   "outputs": [
    {
     "name": "stdout",
     "output_type": "stream",
     "text": [
      "sachin jadhav\n"
     ]
    }
   ],
   "source": [
    "firstname ='sachin'\n",
    "lastname = 'jadhav'\n",
    "fullname =f\"{firstname} {lastname}\"\n",
    "print(fullname)\n"
   ]
  },
  {
   "cell_type": "code",
   "execution_count": 8,
   "metadata": {},
   "outputs": [
    {
     "name": "stdout",
     "output_type": "stream",
     "text": [
      "keep up the good work,Sachin Jadhav\n"
     ]
    }
   ],
   "source": [
    "#req :  to appreciate sachin\n",
    "message = f\"keep up the good work,{fullname.title()}\"\n",
    "print(message)\n",
    "  "
   ]
  },
  {
   "cell_type": "code",
   "execution_count": 9,
   "metadata": {},
   "outputs": [
    {
     "name": "stdout",
     "output_type": "stream",
     "text": [
      "favourite_language : pythoncjavac++pascal\n"
     ]
    }
   ],
   "source": [
    "# ***********  Adding white spaces to strings  :\n",
    "\n",
    "# 1) \"\\n\" : new line delimiter\n",
    "\n",
    "# Suppose we are conducting a survey in a college to choose the fav programming language\n",
    "\n",
    "print(\"favourite_language : pythoncjavac++pascal\"); # difficult to interpret wihout new line"
   ]
  },
  {
   "cell_type": "code",
   "execution_count": 10,
   "metadata": {},
   "outputs": [
    {
     "name": "stdout",
     "output_type": "stream",
     "text": [
      "favourite_language : \n",
      "python\n",
      "c\n",
      "java\n",
      "c++\n",
      "pascal\n"
     ]
    }
   ],
   "source": [
    "print(\"favourite_language : \\npython\\nc\\njava\\nc++\\npascal\"); # easily readable with new line delimiter"
   ]
  },
  {
   "cell_type": "code",
   "execution_count": 12,
   "metadata": {},
   "outputs": [
    {
     "name": "stdout",
     "output_type": "stream",
     "text": [
      "favourite_language : \n",
      "\tpython\n",
      "\tc\n",
      "\tjava\n",
      "\tc++\n",
      "\tpascal\n"
     ]
    }
   ],
   "source": [
    "#2) \\t : tab delimiter : Space of 4 characters.\n",
    "\n",
    "print(\"favourite_language : \\n\\tpython\\n\\tc\\n\\tjava\\n\\tc++\\n\\tpascal\");"
   ]
  },
  {
   "cell_type": "code",
   "execution_count": 13,
   "metadata": {},
   "outputs": [
    {
     "name": "stdout",
     "output_type": "stream",
     "text": [
      "zohaibuddin\n"
     ]
    }
   ],
   "source": [
    "#********* Removing whitespaces from string\t\n",
    "\n",
    "name = \"zohaibuddin\"\n",
    "print(name)"
   ]
  },
  {
   "cell_type": "code",
   "execution_count": 14,
   "metadata": {},
   "outputs": [
    {
     "name": "stdout",
     "output_type": "stream",
     "text": [
      "   zohaibuddin\n"
     ]
    }
   ],
   "source": [
    "name1 = \"   zohaibuddin\" #left whitespace\n",
    "print(name1)"
   ]
  },
  {
   "cell_type": "code",
   "execution_count": 15,
   "metadata": {},
   "outputs": [
    {
     "name": "stdout",
     "output_type": "stream",
     "text": [
      "zohaibuddin    \n"
     ]
    }
   ],
   "source": [
    "name2 = \"zohaibuddin    \" #right whitespace\n",
    "print(name2)"
   ]
  },
  {
   "cell_type": "code",
   "execution_count": 16,
   "metadata": {},
   "outputs": [
    {
     "name": "stdout",
     "output_type": "stream",
     "text": [
      "zohaibuddin\n"
     ]
    }
   ],
   "source": [
    "# Eliminate the space to improve the storage capacity.\n",
    "\n",
    "# 1) lstrip() : Left strip :  checks only left side gap and eliminate.\n",
    "\n",
    "print(name1.lstrip())"
   ]
  },
  {
   "cell_type": "code",
   "execution_count": 17,
   "metadata": {},
   "outputs": [
    {
     "name": "stdout",
     "output_type": "stream",
     "text": [
      "zohaibuddin\n"
     ]
    }
   ],
   "source": [
    "# 4) rstrip() : Right strip : checks only right side gap and eliminate\n",
    "print(name1.lstrip())"
   ]
  },
  {
   "cell_type": "code",
   "execution_count": 18,
   "metadata": {},
   "outputs": [
    {
     "name": "stdout",
     "output_type": "stream",
     "text": [
      "zohaibuddin\n"
     ]
    }
   ],
   "source": [
    "#5) strip() : eliminate both left and right side gap. : checks both left & right side gap and eliminate\n",
    "\n",
    "name3 = \"  zohaibuddin  \"\n",
    "print(name3.strip())"
   ]
  },
  {
   "cell_type": "code",
   "execution_count": null,
   "metadata": {},
   "outputs": [],
   "source": [
    "# Q :  Why do we use lstrip() & rstrip() if we have strip() which works for both.\n",
    "\n",
    "# when a strip() function works, it checks both side of the string to find for white spaces.\n",
    "#This takes some fraction of a milisecond to do that. Which makes the difference.\n"
   ]
  }
 ],
 "metadata": {
  "kernelspec": {
   "display_name": "Python 3",
   "language": "python",
   "name": "python3"
  },
  "language_info": {
   "codemirror_mode": {
    "name": "ipython",
    "version": 3
   },
   "file_extension": ".py",
   "mimetype": "text/x-python",
   "name": "python",
   "nbconvert_exporter": "python",
   "pygments_lexer": "ipython3",
   "version": "3.7.6"
  }
 },
 "nbformat": 4,
 "nbformat_minor": 4
}
